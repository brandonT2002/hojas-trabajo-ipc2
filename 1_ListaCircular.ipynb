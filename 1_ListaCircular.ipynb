{
  "nbformat": 4,
  "nbformat_minor": 0,
  "metadata": {
    "colab": {
      "provenance": []
    },
    "kernelspec": {
      "name": "python3",
      "display_name": "Python 3"
    },
    "language_info": {
      "name": "python"
    }
  },
  "cells": [
    {
      "cell_type": "markdown",
      "source": [
        "# Listas Enlazadas\n",
        "Definición de la clase Receta\n"
      ],
      "metadata": {
        "id": "XcTZAZcUyP6w"
      }
    },
    {
      "cell_type": "code",
      "execution_count": 47,
      "metadata": {
        "id": "h7fpEhpuyDsl"
      },
      "outputs": [],
      "source": [
        "class receta:\n",
        "  def __init__(self,paciente, fecha_nac, doctor, colegiado, fecha_cita, hora_cita, tipo_consulta, tratamiento):\n",
        "    self.paciente = paciente\n",
        "    self.fecha_nac = fecha_nac\n",
        "    self.doctor = doctor\n",
        "    self.colegiado = colegiado\n",
        "    self.fecha_cita = fecha_cita\n",
        "    self.hora_cita = hora_cita\n",
        "    self.tipo_consulta = tipo_consulta\n",
        "    self.tratamiento = tratamiento"
      ]
    },
    {
      "cell_type": "markdown",
      "source": [
        "# Definición de la clase Nodo"
      ],
      "metadata": {
        "id": "FtMAq2LNyUmC"
      }
    },
    {
      "cell_type": "code",
      "source": [
        "class nodo:\n",
        "  def __init__(self, receta=None, siguiente=None):\n",
        "    self.receta = receta\n",
        "    self.siguiente = siguiente"
      ],
      "metadata": {
        "id": "PUfkrIViyWVn"
      },
      "execution_count": 48,
      "outputs": []
    },
    {
      "cell_type": "markdown",
      "source": [
        "# Crear lista circular"
      ],
      "metadata": {
        "id": "dMW9yJsTzYkY"
      }
    },
    {
      "cell_type": "code",
      "source": [
        "class lista_circular:\n",
        "  def __init__(self):\n",
        "    self.primero = None\n",
        "\n",
        "  def insertar(self,receta):\n",
        "    if self.primero is None:\n",
        "      self.primero = nodo(receta=receta)\n",
        "      self.primero.siguiente = self.primero\n",
        "    else:\n",
        "      actual = nodo(receta=receta,siguiente=self.primero.siguiente)\n",
        "      self.primero.siguiente = actual\n",
        "\n",
        "  def recorrer(self):\n",
        "    if self.primero is None:\n",
        "      return\n",
        "    actual = self.primero\n",
        "    print(\"Paciente: \", actual.receta.paciente, \n",
        "            \"| Fecha de nacimiento: \", actual.receta.fecha_nac,\n",
        "            \"| Doctor: \", actual.receta.doctor,\n",
        "            \"| Colegiado: \", actual.receta.colegiado,\n",
        "            \"| Fecha de cita: \", actual.receta.fecha_cita,\n",
        "            \"| Hora cita: \", actual.receta.hora_cita,\n",
        "            \"| Tipo de consulta: \", actual.receta.tipo_consulta,\n",
        "            \"| Tratamiento: \", actual.receta.tipo_consulta)\n",
        "    while actual.siguiente != self.primero:\n",
        "      actual = actual.siguiente\n",
        "      print(\"Paciente: \", actual.receta.paciente, \n",
        "            \"| Fecha de nacimiento: \", actual.receta.fecha_nac,\n",
        "            \"| Doctor: \", actual.receta.doctor,\n",
        "            \"| Colegiado: \", actual.receta.colegiado,\n",
        "            \"| Fecha de cita: \", actual.receta.fecha_cita,\n",
        "            \"| Hora cita: \", actual.receta.hora_cita,\n",
        "            \"| Tipo de consulta: \", actual.receta.tipo_consulta,\n",
        "            \"| Tratamiento: \", actual.receta.tipo_consulta)\n",
        "  \n",
        "  def modificar(self, paciente, fecha_cita, hora_cita):\n",
        "    actual = self.primero\n",
        "\n",
        "    while actual != None:\n",
        "      if actual.receta.paciente == paciente:\n",
        "        actual.receta.fecha_cita = fecha_cita\n",
        "        actual.receta.hora_cita = hora_cita\n",
        "        return\n",
        "      actual = actual.siguiente\n",
        "\n",
        "  def eliminar(self, colegiado, fecha_cita, hora_cita):\n",
        "    actual = self.primero\n",
        "    anterior = None\n",
        "    no_encontrado = False\n",
        "\n",
        "    while actual != None and actual.receta.colegiado != colegiado and actual.receta.fecha_cita != fecha_cita and actual.receta.hora_cita != hora_cita:\n",
        "      anterior = actual\n",
        "      actual = actual.siguiente\n",
        "\n",
        "      if actual == self.primero:\n",
        "        no_encontrado = True\n",
        "        print(\"No encontrado\")\n",
        "        break\n",
        "    \n",
        "    if not no_encontrado:\n",
        "      if anterior is not None:\n",
        "        anterior.siguiente = actual.siguiente\n",
        "        actual.siguiente = None\n",
        "      else:\n",
        "        while actual.siguiente != self.primero:\n",
        "          actual = actual.siguiente\n",
        "        actual.siguiente = self.primero.siguiente\n",
        "        self.primero = self.primero.siguiente\n",
        "\n"
      ],
      "metadata": {
        "id": "Cidca34hzbax"
      },
      "execution_count": 49,
      "outputs": []
    },
    {
      "cell_type": "markdown",
      "source": [
        "# Creación de Objetos Receta"
      ],
      "metadata": {
        "id": "q7xCMNr580RN"
      }
    },
    {
      "cell_type": "code",
      "source": [
        "r1 = receta(\"Gerson López\",\"03-10-1990\",\"Melvin Ortiz\",20156,\"17-01-2023\",\"11:30\",\"Medicina general\",\"2 pildoras de acetaminofén cada 6 horas\")\n",
        "r2 = receta(\"Karen Gómez\",\"08-05-2000\",\"Jorge Merida\",8567,\"31-01-2023\",\"09:00\",\"Medicina interna\",\"Tylenol de 20 ml cada 4 horas\")\n",
        "r3 = receta(\"Luis García\",\"17-09-1987\",\"Melvin Ortiz\",20156,\"02-02-2023\",\"12:00\",\"Medicina general\",\"2 cucharadas de Pepto-Bismol cada hora hasta que la diarrea desaparezca\")"
      ],
      "metadata": {
        "id": "3tKWkYxd8tt3"
      },
      "execution_count": 50,
      "outputs": []
    },
    {
      "cell_type": "markdown",
      "source": [
        "# Inserción"
      ],
      "metadata": {
        "id": "Ej-DmIYE9BTK"
      }
    },
    {
      "cell_type": "code",
      "source": [
        "lista_c = lista_circular()\n",
        "lista_c.insertar(r1)\n",
        "lista_c.insertar(r2)\n",
        "lista_c.insertar(r3)"
      ],
      "metadata": {
        "id": "IUzT5Npw9A8N"
      },
      "execution_count": 51,
      "outputs": []
    },
    {
      "cell_type": "markdown",
      "source": [
        "# Recorrer"
      ],
      "metadata": {
        "id": "rZo1zCaV9Osq"
      }
    },
    {
      "cell_type": "code",
      "source": [
        "lista_c.recorrer()"
      ],
      "metadata": {
        "colab": {
          "base_uri": "https://localhost:8080/"
        },
        "id": "4aYZhF_Z9T9G",
        "outputId": "989970b0-a946-4c5d-b3dd-2deac6cdf3d9"
      },
      "execution_count": 52,
      "outputs": [
        {
          "output_type": "stream",
          "name": "stdout",
          "text": [
            "Paciente:  Gerson López | Fecha de nacimiento:  03-10-1990 | Doctor:  Melvin Ortiz | Colegiado:  20156 | Fecha de cita:  17-01-2023 | Hora cita:  11:30 | Tipo de consulta:  Medicina general | Tratamiento:  Medicina general\n",
            "Paciente:  Luis García | Fecha de nacimiento:  17-09-1987 | Doctor:  Melvin Ortiz | Colegiado:  20156 | Fecha de cita:  02-02-2023 | Hora cita:  12:00 | Tipo de consulta:  Medicina general | Tratamiento:  Medicina general\n",
            "Paciente:  Karen Gómez | Fecha de nacimiento:  08-05-2000 | Doctor:  Jorge Merida | Colegiado:  8567 | Fecha de cita:  31-01-2023 | Hora cita:  09:00 | Tipo de consulta:  Medicina interna | Tratamiento:  Medicina interna\n"
          ]
        }
      ]
    },
    {
      "cell_type": "markdown",
      "source": [
        "# Eliminar"
      ],
      "metadata": {
        "id": "gNG9WYOt9erH"
      }
    },
    {
      "cell_type": "code",
      "source": [
        "lista_c.eliminar(8567, \"31-01-2023\", \"09:00\",)\n",
        "lista_c.recorrer()"
      ],
      "metadata": {
        "colab": {
          "base_uri": "https://localhost:8080/"
        },
        "id": "_jYtklrF9g4c",
        "outputId": "3a786686-de39-46c1-eddf-a5da7ba39c27"
      },
      "execution_count": 53,
      "outputs": [
        {
          "output_type": "stream",
          "name": "stdout",
          "text": [
            "Paciente:  Gerson López | Fecha de nacimiento:  03-10-1990 | Doctor:  Melvin Ortiz | Colegiado:  20156 | Fecha de cita:  17-01-2023 | Hora cita:  11:30 | Tipo de consulta:  Medicina general | Tratamiento:  Medicina general\n",
            "Paciente:  Luis García | Fecha de nacimiento:  17-09-1987 | Doctor:  Melvin Ortiz | Colegiado:  20156 | Fecha de cita:  02-02-2023 | Hora cita:  12:00 | Tipo de consulta:  Medicina general | Tratamiento:  Medicina general\n"
          ]
        }
      ]
    },
    {
      "cell_type": "markdown",
      "source": [
        "# Modificar"
      ],
      "metadata": {
        "id": "sxqvk8DB-zkP"
      }
    },
    {
      "cell_type": "code",
      "source": [
        "lista_c.modificar('Luis García','07-10-2024','11:30')\n",
        "lista_c.recorrer()"
      ],
      "metadata": {
        "colab": {
          "base_uri": "https://localhost:8080/"
        },
        "id": "waqwbn3z-2of",
        "outputId": "4d1e284c-b192-49ad-f9ea-2fcf9b306f03"
      },
      "execution_count": 54,
      "outputs": [
        {
          "output_type": "stream",
          "name": "stdout",
          "text": [
            "Paciente:  Gerson López | Fecha de nacimiento:  03-10-1990 | Doctor:  Melvin Ortiz | Colegiado:  20156 | Fecha de cita:  17-01-2023 | Hora cita:  11:30 | Tipo de consulta:  Medicina general | Tratamiento:  Medicina general\n",
            "Paciente:  Luis García | Fecha de nacimiento:  17-09-1987 | Doctor:  Melvin Ortiz | Colegiado:  20156 | Fecha de cita:  07-10-2024 | Hora cita:  11:30 | Tipo de consulta:  Medicina general | Tratamiento:  Medicina general\n"
          ]
        }
      ]
    }
  ]
}