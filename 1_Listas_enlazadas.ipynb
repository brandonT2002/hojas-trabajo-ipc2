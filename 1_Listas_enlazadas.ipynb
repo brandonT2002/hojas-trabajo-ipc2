{
  "nbformat": 4,
  "nbformat_minor": 0,
  "metadata": {
    "colab": {
      "provenance": []
    },
    "kernelspec": {
      "name": "python3",
      "display_name": "Python 3"
    },
    "language_info": {
      "name": "python"
    }
  },
  "cells": [
    {
      "cell_type": "markdown",
      "source": [
        "# Sistema de registro de recetas médicas\n",
        "\n",
        "Se requiere la construcción de un sistema que registre las recetas prescritas por un doctor a un paciente durante una cita médica. Cada receta debe almacenarse por medio de una estructura de datos que posea información como:\n",
        "\n",
        "- Paciente\n",
        "- Fecha de nacimiento\n",
        "- Doctor\n",
        "- Licencia médica\n",
        "- Fecha de cita\n",
        "- Hora de cita\n",
        "- Tipo de consulta\n",
        "- Tratamiento"
      ],
      "metadata": {
        "id": "XncqGEuIgVVX"
      }
    },
    {
      "cell_type": "markdown",
      "source": [
        "# Listas Enlazadas\n",
        "Definición de la clase Receta"
      ],
      "metadata": {
        "id": "rkp4HZsHjjZd"
      }
    },
    {
      "cell_type": "code",
      "execution_count": 102,
      "metadata": {
        "id": "w2cIOAnRf4Jy"
      },
      "outputs": [],
      "source": [
        "class receta:\n",
        "  def __init__(self,paciente, fecha_nac, doctor, colegiado, fecha_cita, hora_cita, tipo_consulta, tratamiento):\n",
        "    self.paciente = paciente\n",
        "    self.fecha_nac = fecha_nac\n",
        "    self.doctor = doctor\n",
        "    self.colegiado = colegiado\n",
        "    self.fecha_cita = fecha_cita\n",
        "    self.hora_cita = hora_cita\n",
        "    self.tipo_consulta = tipo_consulta\n",
        "    self.tratamiento = tratamiento"
      ]
    },
    {
      "cell_type": "markdown",
      "source": [
        "# Definición de la clase Nodo"
      ],
      "metadata": {
        "id": "m_ec8zowlkku"
      }
    },
    {
      "cell_type": "code",
      "source": [
        "class nodo:\n",
        "  def __init__(self, receta=None, siguiente=None):\n",
        "    self.receta = receta\n",
        "    self.siguiente = siguiente"
      ],
      "metadata": {
        "id": "j6BCS0htljOU"
      },
      "execution_count": 103,
      "outputs": []
    },
    {
      "cell_type": "markdown",
      "source": [
        "# Definición de la clase Lista Enlazada"
      ],
      "metadata": {
        "id": "_0hamIjDqPug"
      }
    },
    {
      "cell_type": "code",
      "source": [
        "class lista_enlazada:\n",
        "  def __init__(self):\n",
        "    self.primero = None\n",
        "\n",
        "  def insertar(self, receta):\n",
        "    if self.primero is None:\n",
        "      self.primero = nodo(receta = receta)\n",
        "      return\n",
        "    actual = self.primero\n",
        "    while actual.siguiente:\n",
        "      actual = actual.siguiente\n",
        "    actual.siguiente = nodo(receta = receta)\n",
        "\n",
        "  def recorrer(self):\n",
        "    actual = self.primero\n",
        "\n",
        "    while actual != None:\n",
        "      print('Paciente: ', actual.receta.paciente, \n",
        "            '| Fecha de nacimiento: ', actual.receta.fecha_nac,\n",
        "            '| Doctor: ', actual.receta.doctor,\n",
        "            '| Colegiado: ', actual.receta.colegiado,\n",
        "            '| Fecha de cita: ', actual.receta.fecha_cita,\n",
        "            '| Hora cita: ', actual.receta.hora_cita,\n",
        "            '| Tipo de consulta: ', actual.receta.tipo_consulta,\n",
        "            '| Tratamiento: ', actual.receta.tratamiento)\n",
        "      \n",
        "      actual = actual.siguiente\n",
        "\n",
        "  def modificar(self, paciente, fecha_cita, hora_cita):\n",
        "    actual = self.primero\n",
        "\n",
        "    while actual != None and actual.receta.paciente == paciente:\n",
        "      actual.receta.fecha_cita = fecha_cita\n",
        "      actual.receta.hora_cita = hora_cita\n",
        "      actual = actual.siguiente\n",
        "\n",
        "  def eliminar(self, colegiado, fecha_cita, hora_cita):\n",
        "    actual = self.primero\n",
        "    anterior = None\n",
        "\n",
        "    while actual != None and actual.receta.colegiado != colegiado and actual.receta.fecha_cita != fecha_cita and actual.receta.hora_cita != hora_cita:\n",
        "      anterior = actual\n",
        "      actual = actual.siguiente\n",
        "    \n",
        "    if anterior is None:\n",
        "      self.primero = actual.siguiente\n",
        "      actual.siguiente = None\n",
        "    elif actual:\n",
        "      anterior.siguiente = actual.siguiente\n",
        "      actual.siguiente = None\n"
      ],
      "metadata": {
        "id": "D7zQsohMqUMc"
      },
      "execution_count": 104,
      "outputs": []
    },
    {
      "cell_type": "markdown",
      "source": [
        "# Creación de objetos Receta"
      ],
      "metadata": {
        "id": "EKIdw9mkxunI"
      }
    },
    {
      "cell_type": "code",
      "source": [
        "r1 = receta('Gerson López','03-10-1990','Melvin Ortiz',20156,'17-01-2023','11:30','Medicina general','2 pildoras de acetaminofén cada 6 horas')\n",
        "r2 = receta(\"Karen Gómez\",\"08-05-2000\",\"Jorge Merida\",8567,\"31-01-2023\",\"09:00\",\"Medicina interna\",\"Tylenol de 20 ml cada 4 horas\")\n",
        "r3 = receta(\"Luis García\",\"17-09-1987\",\"Melvin Ortiz\",20156,\"02-02-2023\",\"12:00\",\"Medicina general\",\"2 cucharadas de Pepto-Bismol cada hora hasta que la diarrea desaparezca\")\n",
        "\n",
        "\n",
        "#print(r1.__dict__)"
      ],
      "metadata": {
        "id": "gyIYAwJJxo2p"
      },
      "execution_count": 105,
      "outputs": []
    },
    {
      "cell_type": "markdown",
      "source": [
        "# Inserción"
      ],
      "metadata": {
        "id": "ixNrrqZFyo7q"
      }
    },
    {
      "cell_type": "code",
      "source": [
        "lista_e = lista_enlazada()\n",
        "lista_e.insertar(r1)\n",
        "lista_e.insertar(r2)\n",
        "lista_e.insertar(r3)"
      ],
      "metadata": {
        "id": "pcri9yqbyrRi"
      },
      "execution_count": 106,
      "outputs": []
    },
    {
      "cell_type": "markdown",
      "source": [
        "# Recorrer"
      ],
      "metadata": {
        "id": "lv5atQxo1Q39"
      }
    },
    {
      "cell_type": "code",
      "source": [
        "lista_e.recorrer()"
      ],
      "metadata": {
        "colab": {
          "base_uri": "https://localhost:8080/"
        },
        "id": "4NL6bOLB1UgE",
        "outputId": "415507b6-4078-41a4-e260-7e9939bd528e"
      },
      "execution_count": 107,
      "outputs": [
        {
          "output_type": "stream",
          "name": "stdout",
          "text": [
            "Paciente:  Gerson López | Fecha de nacimiento:  03-10-1990 | Doctor:  Melvin Ortiz | Colegiado:  20156 | Fecha de cita:  17-01-2023 | Hora cita:  11:30 | Tipo de consulta:  Medicina general | Tratamiento:  2 pildoras de acetaminofén cada 6 horas\n",
            "Paciente:  Karen Gómez | Fecha de nacimiento:  08-05-2000 | Doctor:  Jorge Merida | Colegiado:  8567 | Fecha de cita:  31-01-2023 | Hora cita:  09:00 | Tipo de consulta:  Medicina interna | Tratamiento:  Tylenol de 20 ml cada 4 horas\n",
            "Paciente:  Luis García | Fecha de nacimiento:  17-09-1987 | Doctor:  Melvin Ortiz | Colegiado:  20156 | Fecha de cita:  02-02-2023 | Hora cita:  12:00 | Tipo de consulta:  Medicina general | Tratamiento:  2 cucharadas de Pepto-Bismol cada hora hasta que la diarrea desaparezca\n"
          ]
        }
      ]
    },
    {
      "cell_type": "markdown",
      "source": [
        "# Eliminar"
      ],
      "metadata": {
        "id": "-KMh0hjL-Eg1"
      }
    },
    {
      "cell_type": "code",
      "source": [
        "lista_e.eliminar(20156,'17-01-2023','11:30')\n",
        "lista_e.recorrer()"
      ],
      "metadata": {
        "colab": {
          "base_uri": "https://localhost:8080/"
        },
        "id": "BX9Cq1GB1W8s",
        "outputId": "fc41ce5a-7818-4415-8265-b238f66d3de9"
      },
      "execution_count": 108,
      "outputs": [
        {
          "output_type": "stream",
          "name": "stdout",
          "text": [
            "Paciente:  Karen Gómez | Fecha de nacimiento:  08-05-2000 | Doctor:  Jorge Merida | Colegiado:  8567 | Fecha de cita:  31-01-2023 | Hora cita:  09:00 | Tipo de consulta:  Medicina interna | Tratamiento:  Tylenol de 20 ml cada 4 horas\n",
            "Paciente:  Luis García | Fecha de nacimiento:  17-09-1987 | Doctor:  Melvin Ortiz | Colegiado:  20156 | Fecha de cita:  02-02-2023 | Hora cita:  12:00 | Tipo de consulta:  Medicina general | Tratamiento:  2 cucharadas de Pepto-Bismol cada hora hasta que la diarrea desaparezca\n"
          ]
        }
      ]
    },
    {
      "cell_type": "markdown",
      "source": [
        "# Modificar"
      ],
      "metadata": {
        "id": "vcSb8gF--HVl"
      }
    },
    {
      "cell_type": "code",
      "source": [
        "lista_e.modificar('Karen Gómez','21-02-2023','10:30')\n",
        "lista_e.recorrer()"
      ],
      "metadata": {
        "colab": {
          "base_uri": "https://localhost:8080/"
        },
        "id": "9ykT9dB6_smR",
        "outputId": "955f653f-f4f1-436f-c8b5-b3c50fe32955"
      },
      "execution_count": 109,
      "outputs": [
        {
          "output_type": "stream",
          "name": "stdout",
          "text": [
            "Paciente:  Karen Gómez | Fecha de nacimiento:  08-05-2000 | Doctor:  Jorge Merida | Colegiado:  8567 | Fecha de cita:  21-02-2023 | Hora cita:  10:30 | Tipo de consulta:  Medicina interna | Tratamiento:  Tylenol de 20 ml cada 4 horas\n",
            "Paciente:  Luis García | Fecha de nacimiento:  17-09-1987 | Doctor:  Melvin Ortiz | Colegiado:  20156 | Fecha de cita:  02-02-2023 | Hora cita:  12:00 | Tipo de consulta:  Medicina general | Tratamiento:  2 cucharadas de Pepto-Bismol cada hora hasta que la diarrea desaparezca\n"
          ]
        }
      ]
    }
  ]
}